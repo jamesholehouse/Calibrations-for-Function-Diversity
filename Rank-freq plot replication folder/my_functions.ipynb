{
 "cells": [
  {
   "cell_type": "markdown",
   "metadata": {},
   "source": [
    "# Custom functions used in multiple scripts"
   ]
  },
  {
   "cell_type": "code",
   "execution_count": 2,
   "metadata": {},
   "outputs": [],
   "source": [
    "import numpy as np\n",
    "import statsmodels.api as sm\n",
    "import pandas as pd\n",
    "import matplotlib.pyplot as plt\n"
   ]
  },
  {
   "cell_type": "markdown",
   "metadata": {},
   "source": [
    "##  Function for fitting exponent, and plot scaling relation ships. "
   ]
  },
  {
   "cell_type": "code",
   "execution_count": 2,
   "metadata": {},
   "outputs": [],
   "source": [
    "def linFit(df, xvar, yvar, CI = 0.05):\n",
    "    \"\"\"\n",
    "    Get scaling exponent using regression of the log-transformed variables. \n",
    "    Not this function drops 0 or negative values in data. \n",
    "    \n",
    "    df - dataframe where the data is stored\n",
    "    xvar - column name for the x variable \n",
    "    yvar - column nage for the y variable. \n",
    "    CI - define confidence interval. Default 0.05 gives 95% CI. \n",
    "    \n",
    "    \"\"\"\n",
    "    \n",
    "    df1 = df[(df[xvar] > 0) & (df[yvar] > 0)][[xvar, yvar]]\n",
    "    X = np.log(df1[xvar])\n",
    "    y = np.log(df1[yvar])\n",
    "    \n",
    "    X = sm.add_constant(X) # add constant to linear regression\n",
    "    res = sm.OLS(y,X ,missing = 'drop').fit()\n",
    "    #print(res.conf_int(0.05))\n",
    "    out = {\"b\": res.params[0], \"b_l\" : res.conf_int(CI) [0][0], \"b_u\": res.conf_int(CI) [1][0], \n",
    "          \"beta\":res.params[1], \"beta_l\" : res.conf_int(CI) [0][1],\"beta_u\": res.conf_int(CI) [1][1],\n",
    "          \"rsq\": res.rsquared}\n",
    "          # b - intercept _l - lower bound on CI, _u - upper bound on CI, beta - slope\n",
    "  \n",
    "    return out, df1   \n",
    "\n",
    "def plotScaling(df, xvar, yvar, linfit = 1, ptMarker = \".\", markerSz = 5, lineMarker = \"-\", dispText = 1):\n",
    "    \"\"\"\n",
    "    Plot the scaling relationship\n",
    "    df - dataframe where the data is stored\n",
    "    xvar - column name for the x variable \n",
    "    yvar - column nage for the y variable. \n",
    "    linfit - whether to fit the exponent and plot the scaling curve. \n",
    "    dispText - whether to display text for the scaling exponent\n",
    "    \"\"\"\n",
    "    \n",
    "    out, df1 = linFit(df, xvar, yvar)\n",
    "    xdata = df1[xvar]\n",
    "    ydata = df1[yvar]\n",
    "    \n",
    "    plt.loglog(xdata, ydata, ptMarker, alpha = 0.9, markersize = markerSz)\n",
    "    \n",
    "    # plot linfit \n",
    "    if linfit == 1: \n",
    "        x = np.logspace(np.log10(min(xdata)), np.log10(max(xdata)), 10)\n",
    "        y = np.exp(out[\"b\"])*x**out[\"beta\"]\n",
    "        plt.loglog(x,y , lineMarker)\n",
    "        if dispText ==1:\n",
    "            plt.text(min(x), max(max(y), max(ydata))*0.8 , r\"$\\beta = {:.2f}[{:.2f}, {:.2f}]$\".format(out[\"beta\"], out[\"beta_l\"], out[\"beta_u\"]))\n",
    "    \n",
    "    return out"
   ]
  },
  {
   "cell_type": "code",
   "execution_count": 4,
   "metadata": {},
   "outputs": [],
   "source": [
    "def process_freq_table(data, ID, Function, Count):\n",
    "    '''\n",
    "    Process data frame where columns are:\n",
    "    ID : ID of the uni\n",
    "    Function: name of the function\n",
    "    Count: Number of occurances of this function. \n",
    "    \n",
    "    Return dataframe of ID, N (total occurances), and D (distinct number of occurances)\n",
    "    '''\n",
    "    # clean data \n",
    "    # incase there are multiple rows for the same function, add them. \n",
    "\n",
    "    data_filtered = data.groupby([ID, Function])[Count].sum().reset_index()\n",
    "    \n",
    "    #filter out 0 degree counts. \n",
    "    data_filtered = data_filtered[data_filtered[Count] > 0]\n",
    "    \n",
    "    # Count total occurances and number of functions. \n",
    "    out = data_filtered.groupby(ID).agg({Count: \"sum\", Function: \"count\"}).reset_index().rename(columns = {Count:'N',Function:\"D\" })\n",
    "    return out\n",
    "    "
   ]
  },
  {
   "cell_type": "code",
   "execution_count": 5,
   "metadata": {},
   "outputs": [],
   "source": [
    "def get_rank_freq(data, Function, Count):\n",
    "    \"\"\"\n",
    "    Get rank-frequency distribution from table where each row is a function in a unit and its count. \n",
    "    \"\"\"\n",
    "    \n",
    "\n",
    "    rank_freq= data.groupby(Function)[Count].sum().reset_index().sort_values(Count, ascending = False)\n",
    "    rank_freq['rank'] = np.arange(len(rank_freq))+1\n",
    "    rank_freq.rename(columns = {Count: 'n'}, inplace = True)\n",
    "    return rank_freq\n"
   ]
  },
  {
   "cell_type": "code",
   "execution_count": null,
   "metadata": {},
   "outputs": [],
   "source": []
  },
  {
   "cell_type": "code",
   "execution_count": null,
   "metadata": {},
   "outputs": [],
   "source": []
  }
 ],
 "metadata": {
  "kernelspec": {
   "display_name": "Python 3 (ipykernel)",
   "language": "python",
   "name": "python3"
  },
  "language_info": {
   "codemirror_mode": {
    "name": "ipython",
    "version": 3
   },
   "file_extension": ".py",
   "mimetype": "text/x-python",
   "name": "python",
   "nbconvert_exporter": "python",
   "pygments_lexer": "ipython3",
   "version": "3.10.5"
  }
 },
 "nbformat": 4,
 "nbformat_minor": 4
}
